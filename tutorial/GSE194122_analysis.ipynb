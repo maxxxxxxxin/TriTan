{
 "cells": [
  {
   "cell_type": "code",
   "execution_count": 1,
   "metadata": {},
   "outputs": [
    {
     "name": "stderr",
     "output_type": "stream",
     "text": [
      "/mnt/iusers01/fatpou01/bmh01/t48955xm/.conda/envs/maxxxxxxxin/lib/python3.9/site-packages/tqdm/auto.py:22: TqdmWarning: IProgress not found. Please update jupyter and ipywidgets. See https://ipywidgets.readthedocs.io/en/stable/user_install.html\n",
      "  from .autonotebook import tqdm as notebook_tqdm\n"
     ]
    }
   ],
   "source": [
    "import numpy as np\n",
    "import pandas as pd\n",
    "import scanpy as sc\n",
    "from matplotlib import pyplot as plt\n",
    "import seaborn as sns\n",
    "import anndata\n",
    "import mudata as md\n",
    "from mudata import MuData\n",
    "import muon as mu\n",
    "import time\n",
    "from sklearn.metrics.cluster import adjusted_rand_score\n",
    "import TriTan\n",
    "from memory_profiler import memory_usage\n",
    "import tracemalloc"
   ]
  },
  {
   "cell_type": "code",
   "execution_count": 41,
   "metadata": {},
   "outputs": [],
   "source": [
    "tritan = TriTan.TriTan(res_size=120)"
   ]
  },
  {
   "cell_type": "code",
   "execution_count": 2,
   "metadata": {},
   "outputs": [],
   "source": [
    "mdata = md.read(\"./GSE194122/GSE194122.h5mu\")"
   ]
  },
  {
   "cell_type": "code",
   "execution_count": 3,
   "metadata": {
    "collapsed": true
   },
   "outputs": [
    {
     "data": {
      "text/html": [
       "<pre>MuData object with n_obs × n_vars = 69249 × 119350\n",
       "  obs:\t&#x27;cell_type&#x27;, &#x27;TriTan&#x27;, &#x27;MOFA&#x27;, &#x27;M0JITOO&#x27;, &#x27;Seurat4 WNN&#x27;\n",
       "  var:\t&#x27;n_cells&#x27;, &#x27;highly_variable&#x27;, &#x27;means&#x27;, &#x27;dispersions&#x27;, &#x27;dispersions_norm&#x27;\n",
       "  obsm:\t&#x27;ATAC_umap&#x27;, &#x27;GEX_umap&#x27;, &#x27;X_umap&#x27;\n",
       "  2 modalities\n",
       "    rna:\t69249 x 11639\n",
       "      var:\t&#x27;n_cells&#x27;, &#x27;highly_variable&#x27;, &#x27;means&#x27;, &#x27;dispersions&#x27;, &#x27;dispersions_norm&#x27;\n",
       "      uns:\t&#x27;hvg&#x27;, &#x27;log1p&#x27;\n",
       "    atac:\t69249 x 107711\n",
       "      var:\t&#x27;n_cells&#x27;, &#x27;highly_variable&#x27;, &#x27;means&#x27;, &#x27;dispersions&#x27;, &#x27;dispersions_norm&#x27;\n",
       "      uns:\t&#x27;hvg&#x27;, &#x27;log1p&#x27;</pre>"
      ],
      "text/plain": [
       "MuData object with n_obs × n_vars = 69249 × 119350\n",
       "  obs:\t'cell_type', 'TriTan', 'MOFA', 'M0JITOO', 'Seurat4 WNN'\n",
       "  var:\t'n_cells', 'highly_variable', 'means', 'dispersions', 'dispersions_norm'\n",
       "  obsm:\t'ATAC_umap', 'GEX_umap', 'X_umap'\n",
       "  2 modalities\n",
       "    rna:\t69249 x 11639\n",
       "      var:\t'n_cells', 'highly_variable', 'means', 'dispersions', 'dispersions_norm'\n",
       "      uns:\t'hvg', 'log1p'\n",
       "    atac:\t69249 x 107711\n",
       "      var:\t'n_cells', 'highly_variable', 'means', 'dispersions', 'dispersions_norm'\n",
       "      uns:\t'hvg', 'log1p'"
      ]
     },
     "execution_count": 3,
     "metadata": {},
     "output_type": "execute_result"
    }
   ],
   "source": [
    "mdata"
   ]
  },
  {
   "cell_type": "code",
   "execution_count": 15,
   "metadata": {},
   "outputs": [],
   "source": [
    "import random\n",
    "index = random.sample(range(69249),3000)"
   ]
  },
  {
   "cell_type": "code",
   "execution_count": 77,
   "metadata": {},
   "outputs": [],
   "source": [
    "pd.DataFrame(index_60k).to_csv('60kindex.txt',sep='\\t',header=None,index=None)"
   ]
  },
  {
   "cell_type": "code",
   "execution_count": 26,
   "metadata": {
    "collapsed": true
   },
   "outputs": [
    {
     "ename": "NameError",
     "evalue": "name 'random' is not defined",
     "output_type": "error",
     "traceback": [
      "\u001b[0;31m---------------------------------------------------------------------------\u001b[0m",
      "\u001b[0;31mNameError\u001b[0m                                 Traceback (most recent call last)",
      "Cell \u001b[0;32mIn[26], line 1\u001b[0m\n\u001b[0;32m----> 1\u001b[0m index_10k \u001b[38;5;241m=\u001b[39m \u001b[43mrandom\u001b[49m\u001b[38;5;241m.\u001b[39msample(\u001b[38;5;28mrange\u001b[39m(\u001b[38;5;241m69249\u001b[39m),\u001b[38;5;241m10000\u001b[39m)\n\u001b[1;32m      2\u001b[0m index_20k \u001b[38;5;241m=\u001b[39m random\u001b[38;5;241m.\u001b[39msample(\u001b[38;5;28mrange\u001b[39m(\u001b[38;5;241m69249\u001b[39m),\u001b[38;5;241m20000\u001b[39m)\n\u001b[1;32m      3\u001b[0m index_30k \u001b[38;5;241m=\u001b[39m random\u001b[38;5;241m.\u001b[39msample(\u001b[38;5;28mrange\u001b[39m(\u001b[38;5;241m69249\u001b[39m),\u001b[38;5;241m30000\u001b[39m)\n",
      "\u001b[0;31mNameError\u001b[0m: name 'random' is not defined"
     ]
    }
   ],
   "source": [
    "index_10k = random.sample(range(69249),10000)\n",
    "index_20k = random.sample(range(69249),20000)\n",
    "index_30k = random.sample(range(69249),30000)\n",
    "index_45k = random.sample(range(69249),45000)\n",
    "index_60k = random.sample(range(69249),60000)"
   ]
  },
  {
   "cell_type": "code",
   "execution_count": 27,
   "metadata": {},
   "outputs": [],
   "source": [
    "index_10k =pd.read_csv(\"10kindex.txt\",header=None,sep='\\t')\n",
    "index_20k =pd.read_csv(\"20kindex.txt\",header=None,sep='\\t')\n",
    "index_30k =pd.read_csv(\"30kindex.txt\",header=None,sep='\\t')\n",
    "index_45k =pd.read_csv(\"45kindex.txt\",header=None,sep='\\t')\n",
    "index_60k =pd.read_csv(\"60kindex.txt\",header=None,sep='\\t')\n",
    "index_3k =pd.read_csv(\"3kindex.txt\",header=None,sep='\\t')"
   ]
  },
  {
   "cell_type": "code",
   "execution_count": 28,
   "metadata": {},
   "outputs": [],
   "source": [
    "index_3k = index_3k[[0]].T.values[0]\n",
    "index_10k = index_10k[[0]].T.values[0]\n",
    "index_20k = index_20k[[0]].T.values[0]\n",
    "index_30k = index_30k[[0]].T.values[0]\n",
    "index_45k = index_45k[[0]].T.values[0]\n",
    "index_60k = index_60k[[0]].T.values[0]"
   ]
  },
  {
   "cell_type": "code",
   "execution_count": 116,
   "metadata": {},
   "outputs": [],
   "source": [
    "m1 = mdata[index_30k,:]"
   ]
  },
  {
   "cell_type": "markdown",
   "metadata": {},
   "source": [
    "## 3k"
   ]
  },
  {
   "cell_type": "code",
   "execution_count": 48,
   "metadata": {
    "collapsed": true
   },
   "outputs": [
    {
     "name": "stdout",
     "output_type": "stream",
     "text": [
      "\n",
      "        #########################################################\n",
      "        ###           __  __  ____  ______                    ### \n",
      "        ###          |  \\/  |/ __ \\|  ____/\\    _             ### \n",
      "        ###          | \\  / | |  | | |__ /  \\ _| |_           ### \n",
      "        ###          | |\\/| | |  | |  __/ /\\ \\_   _|          ###\n",
      "        ###          | |  | | |__| | | / ____ \\|_|            ###\n",
      "        ###          |_|  |_|\\____/|_|/_/    \\_\\              ###\n",
      "        ###                                                   ### \n",
      "        ######################################################### \n",
      "       \n",
      " \n",
      "        \n",
      "Loaded view='rna' group='group1' with N=3000 samples and D=11639 features...\n",
      "Loaded view='atac' group='group1' with N=3000 samples and D=107711 features...\n",
      "\n",
      "\n",
      "Model options:\n",
      "- Automatic Relevance Determination prior on the factors: True\n",
      "- Automatic Relevance Determination prior on the weights: True\n",
      "- Spike-and-slab prior on the factors: False\n",
      "- Spike-and-slab prior on the weights: True\n",
      "Likelihoods:\n",
      "- View 0 (rna): gaussian\n",
      "- View 1 (atac): gaussian\n",
      "\n",
      "\n",
      "\n",
      "\n",
      "######################################\n",
      "## Training the model with seed 1 ##\n",
      "######################################\n",
      "\n",
      "\n",
      "\n",
      "Converged!\n",
      "\n",
      "\n",
      "\n",
      "#######################\n",
      "## Training finished ##\n",
      "#######################\n",
      "\n",
      "\n",
      "Saving model in /tmp/mofa_20230504-002455.hdf5...\n",
      "Saved MOFA embeddings in .obsm['X_mofa'] slot and their loadings in .varm['LFs'].\n",
      "CPU times: user 28min 57s, sys: 8min 58s, total: 37min 55s\n",
      "Wall time: 12min 44s\n"
     ]
    }
   ],
   "source": [
    "%%time\n",
    "mu.tl.mofa(m1)"
   ]
  },
  {
   "cell_type": "code",
   "execution_count": 109,
   "metadata": {
    "collapsed": true
   },
   "outputs": [
    {
     "name": "stdout",
     "output_type": "stream",
     "text": [
      "\n",
      "        #########################################################\n",
      "        ###           __  __  ____  ______                    ### \n",
      "        ###          |  \\/  |/ __ \\|  ____/\\    _             ### \n",
      "        ###          | \\  / | |  | | |__ /  \\ _| |_           ### \n",
      "        ###          | |\\/| | |  | |  __/ /\\ \\_   _|          ###\n",
      "        ###          | |  | | |__| | | / ____ \\|_|            ###\n",
      "        ###          |_|  |_|\\____/|_|/_/    \\_\\              ###\n",
      "        ###                                                   ### \n",
      "        ######################################################### \n",
      "       \n",
      " \n",
      "        \n",
      "Loaded view='rna' group='group1' with N=3000 samples and D=11639 features...\n",
      "Loaded view='atac' group='group1' with N=3000 samples and D=107711 features...\n",
      "\n",
      "\n",
      "Model options:\n",
      "- Automatic Relevance Determination prior on the factors: True\n",
      "- Automatic Relevance Determination prior on the weights: True\n",
      "- Spike-and-slab prior on the factors: False\n",
      "- Spike-and-slab prior on the weights: True\n",
      "Likelihoods:\n",
      "- View 0 (rna): gaussian\n",
      "- View 1 (atac): gaussian\n",
      "\n",
      "\n",
      "\n",
      "\n",
      "######################################\n",
      "## Training the model with seed 1 ##\n",
      "######################################\n",
      "\n",
      "\n",
      "\n",
      "Converged!\n",
      "\n",
      "\n",
      "\n",
      "#######################\n",
      "## Training finished ##\n",
      "#######################\n",
      "\n",
      "\n",
      "Saving model in /tmp/mofa_20230511-144438.hdf5...\n",
      "Saved MOFA embeddings in .obsm['X_mofa'] slot and their loadings in .varm['LFs'].\n",
      "15.382702831178904\n"
     ]
    }
   ],
   "source": [
    "tracemalloc.start()\n",
    "mu.tl.mofa(m1)\n",
    "snapshot = tracemalloc.take_snapshot()\n",
    "peak_memory = tracemalloc.get_traced_memory()[1] \n",
    "print(peak_memory/1024/1024/1024)\n",
    "tracemalloc.stop()"
   ]
  },
  {
   "cell_type": "code",
   "execution_count": 42,
   "metadata": {},
   "outputs": [
    {
     "name": "stdout",
     "output_type": "stream",
     "text": [
      "CPU times: user 9min 33s, sys: 5min 6s, total: 14min 39s\n",
      "Wall time: 2min 2s\n"
     ]
    }
   ],
   "source": [
    "%%time\n",
    "tritan.fit(m1)"
   ]
  },
  {
   "cell_type": "code",
   "execution_count": 98,
   "metadata": {},
   "outputs": [
    {
     "name": "stdout",
     "output_type": "stream",
     "text": [
      "4.035708690062165\n"
     ]
    }
   ],
   "source": [
    "tracemalloc.start()\n",
    "tritan.fit(m1)\n",
    "snapshot = tracemalloc.take_snapshot()\n",
    "peak_memory = tracemalloc.get_traced_memory()[1] \n",
    "print(peak_memory/1024/1024/1024)\n",
    "tracemalloc.stop()"
   ]
  },
  {
   "cell_type": "markdown",
   "metadata": {},
   "source": [
    "## 10k"
   ]
  },
  {
   "cell_type": "code",
   "execution_count": 81,
   "metadata": {
    "collapsed": true
   },
   "outputs": [
    {
     "name": "stdout",
     "output_type": "stream",
     "text": [
      "\n",
      "        #########################################################\n",
      "        ###           __  __  ____  ______                    ### \n",
      "        ###          |  \\/  |/ __ \\|  ____/\\    _             ### \n",
      "        ###          | \\  / | |  | | |__ /  \\ _| |_           ### \n",
      "        ###          | |\\/| | |  | |  __/ /\\ \\_   _|          ###\n",
      "        ###          | |  | | |__| | | / ____ \\|_|            ###\n",
      "        ###          |_|  |_|\\____/|_|/_/    \\_\\              ###\n",
      "        ###                                                   ### \n",
      "        ######################################################### \n",
      "       \n",
      " \n",
      "        \n",
      "Loaded view='rna' group='group1' with N=10000 samples and D=11639 features...\n",
      "Loaded view='atac' group='group1' with N=10000 samples and D=107711 features...\n",
      "\n",
      "\n",
      "Model options:\n",
      "- Automatic Relevance Determination prior on the factors: True\n",
      "- Automatic Relevance Determination prior on the weights: True\n",
      "- Spike-and-slab prior on the factors: False\n",
      "- Spike-and-slab prior on the weights: True\n",
      "Likelihoods:\n",
      "- View 0 (rna): gaussian\n",
      "- View 1 (atac): gaussian\n",
      "\n",
      "\n",
      "\n",
      "\n",
      "######################################\n",
      "## Training the model with seed 1 ##\n",
      "######################################\n",
      "\n",
      "\n",
      "\n",
      "Converged!\n",
      "\n",
      "\n",
      "\n",
      "#######################\n",
      "## Training finished ##\n",
      "#######################\n",
      "\n",
      "\n",
      "Saving model in /tmp/mofa_20230508-155405.hdf5...\n",
      "Saved MOFA embeddings in .obsm['X_mofa'] slot and their loadings in .varm['LFs'].\n",
      "CPU times: user 1h 27min 39s, sys: 18min 21s, total: 1h 46min 1s\n",
      "Wall time: 41min 42s\n"
     ]
    }
   ],
   "source": [
    "%%time\n",
    "mu.tl.mofa(m1)"
   ]
  },
  {
   "cell_type": "code",
   "execution_count": 111,
   "metadata": {
    "collapsed": true
   },
   "outputs": [
    {
     "name": "stdout",
     "output_type": "stream",
     "text": [
      "\n",
      "        #########################################################\n",
      "        ###           __  __  ____  ______                    ### \n",
      "        ###          |  \\/  |/ __ \\|  ____/\\    _             ### \n",
      "        ###          | \\  / | |  | | |__ /  \\ _| |_           ### \n",
      "        ###          | |\\/| | |  | |  __/ /\\ \\_   _|          ###\n",
      "        ###          | |  | | |__| | | / ____ \\|_|            ###\n",
      "        ###          |_|  |_|\\____/|_|/_/    \\_\\              ###\n",
      "        ###                                                   ### \n",
      "        ######################################################### \n",
      "       \n",
      " \n",
      "        \n",
      "Loaded view='rna' group='group1' with N=10000 samples and D=11639 features...\n",
      "Loaded view='atac' group='group1' with N=10000 samples and D=107711 features...\n",
      "\n",
      "\n",
      "Model options:\n",
      "- Automatic Relevance Determination prior on the factors: True\n",
      "- Automatic Relevance Determination prior on the weights: True\n",
      "- Spike-and-slab prior on the factors: False\n",
      "- Spike-and-slab prior on the weights: True\n",
      "Likelihoods:\n",
      "- View 0 (rna): gaussian\n",
      "- View 1 (atac): gaussian\n",
      "\n",
      "\n",
      "\n",
      "\n",
      "######################################\n",
      "## Training the model with seed 1 ##\n",
      "######################################\n",
      "\n",
      "\n",
      "\n",
      "Converged!\n",
      "\n",
      "\n",
      "\n",
      "#######################\n",
      "## Training finished ##\n",
      "#######################\n",
      "\n",
      "\n",
      "Saving model in /tmp/mofa_20230511-150037.hdf5...\n",
      "Saved MOFA embeddings in .obsm['X_mofa'] slot and their loadings in .varm['LFs'].\n",
      "50.70534433051944\n"
     ]
    }
   ],
   "source": [
    "tracemalloc.start()\n",
    "mu.tl.mofa(m1)\n",
    "snapshot = tracemalloc.take_snapshot()\n",
    "peak_memory = tracemalloc.get_traced_memory()[1] \n",
    "print(peak_memory/1024/1024/1024)\n",
    "tracemalloc.stop()"
   ]
  },
  {
   "cell_type": "code",
   "execution_count": 44,
   "metadata": {},
   "outputs": [
    {
     "name": "stdout",
     "output_type": "stream",
     "text": [
      "CPU times: user 23min 26s, sys: 9min 3s, total: 32min 30s\n",
      "Wall time: 5min 4s\n"
     ]
    }
   ],
   "source": [
    "%%time\n",
    "tritan.fit(m1)"
   ]
  },
  {
   "cell_type": "code",
   "execution_count": 72,
   "metadata": {},
   "outputs": [
    {
     "name": "stdout",
     "output_type": "stream",
     "text": [
      "13.11129246931523\n"
     ]
    }
   ],
   "source": [
    "tracemalloc.start()\n",
    "tritan.fit(m1)\n",
    "snapshot = tracemalloc.take_snapshot()\n",
    "peak_memory = tracemalloc.get_traced_memory()[1] \n",
    "print(peak_memory/1024/1024/1024)\n",
    "tracemalloc.stop()"
   ]
  },
  {
   "cell_type": "markdown",
   "metadata": {},
   "source": [
    "## 20k"
   ]
  },
  {
   "cell_type": "code",
   "execution_count": 83,
   "metadata": {
    "collapsed": true
   },
   "outputs": [
    {
     "name": "stdout",
     "output_type": "stream",
     "text": [
      "\n",
      "        #########################################################\n",
      "        ###           __  __  ____  ______                    ### \n",
      "        ###          |  \\/  |/ __ \\|  ____/\\    _             ### \n",
      "        ###          | \\  / | |  | | |__ /  \\ _| |_           ### \n",
      "        ###          | |\\/| | |  | |  __/ /\\ \\_   _|          ###\n",
      "        ###          | |  | | |__| | | / ____ \\|_|            ###\n",
      "        ###          |_|  |_|\\____/|_|/_/    \\_\\              ###\n",
      "        ###                                                   ### \n",
      "        ######################################################### \n",
      "       \n",
      " \n",
      "        \n",
      "Loaded view='rna' group='group1' with N=20000 samples and D=11639 features...\n",
      "Loaded view='atac' group='group1' with N=20000 samples and D=107711 features...\n",
      "\n",
      "\n",
      "Model options:\n",
      "- Automatic Relevance Determination prior on the factors: True\n",
      "- Automatic Relevance Determination prior on the weights: True\n",
      "- Spike-and-slab prior on the factors: False\n",
      "- Spike-and-slab prior on the weights: True\n",
      "Likelihoods:\n",
      "- View 0 (rna): gaussian\n",
      "- View 1 (atac): gaussian\n",
      "\n",
      "\n",
      "\n",
      "\n",
      "######################################\n",
      "## Training the model with seed 1 ##\n",
      "######################################\n",
      "\n",
      "\n",
      "\n",
      "Converged!\n",
      "\n",
      "\n",
      "\n",
      "#######################\n",
      "## Training finished ##\n",
      "#######################\n",
      "\n",
      "\n",
      "Saving model in /tmp/mofa_20230508-164828.hdf5...\n",
      "Saved MOFA embeddings in .obsm['X_mofa'] slot and their loadings in .varm['LFs'].\n",
      "CPU times: user 2h 55min 33s, sys: 32min 21s, total: 3h 27min 55s\n",
      "Wall time: 1h 27min 6s\n"
     ]
    }
   ],
   "source": [
    "%%time\n",
    "mu.tl.mofa(m1)"
   ]
  },
  {
   "cell_type": "code",
   "execution_count": 113,
   "metadata": {
    "collapsed": true
   },
   "outputs": [
    {
     "name": "stdout",
     "output_type": "stream",
     "text": [
      "\n",
      "        #########################################################\n",
      "        ###           __  __  ____  ______                    ### \n",
      "        ###          |  \\/  |/ __ \\|  ____/\\    _             ### \n",
      "        ###          | \\  / | |  | | |__ /  \\ _| |_           ### \n",
      "        ###          | |\\/| | |  | |  __/ /\\ \\_   _|          ###\n",
      "        ###          | |  | | |__| | | / ____ \\|_|            ###\n",
      "        ###          |_|  |_|\\____/|_|/_/    \\_\\              ###\n",
      "        ###                                                   ### \n",
      "        ######################################################### \n",
      "       \n",
      " \n",
      "        \n",
      "Loaded view='rna' group='group1' with N=20000 samples and D=11639 features...\n",
      "Loaded view='atac' group='group1' with N=20000 samples and D=107711 features...\n",
      "\n",
      "\n",
      "Model options:\n",
      "- Automatic Relevance Determination prior on the factors: True\n",
      "- Automatic Relevance Determination prior on the weights: True\n",
      "- Spike-and-slab prior on the factors: False\n",
      "- Spike-and-slab prior on the weights: True\n",
      "Likelihoods:\n",
      "- View 0 (rna): gaussian\n",
      "- View 1 (atac): gaussian\n",
      "\n",
      "\n",
      "\n",
      "\n",
      "######################################\n",
      "## Training the model with seed 1 ##\n",
      "######################################\n",
      "\n",
      "\n",
      "\n",
      "Converged!\n",
      "\n",
      "\n",
      "\n",
      "#######################\n",
      "## Training finished ##\n",
      "#######################\n",
      "\n",
      "\n",
      "Saving model in /tmp/mofa_20230511-170050.hdf5...\n",
      "Saved MOFA embeddings in .obsm['X_mofa'] slot and their loadings in .varm['LFs'].\n",
      "101.16620140522718\n"
     ]
    }
   ],
   "source": [
    "tracemalloc.start()\n",
    "mu.tl.mofa(m1)\n",
    "snapshot = tracemalloc.take_snapshot()\n",
    "peak_memory = tracemalloc.get_traced_memory()[1] \n",
    "print(peak_memory/1024/1024/1024)\n",
    "tracemalloc.stop()"
   ]
  },
  {
   "cell_type": "code",
   "execution_count": 47,
   "metadata": {},
   "outputs": [
    {
     "name": "stdout",
     "output_type": "stream",
     "text": [
      "CPU times: user 36min 25s, sys: 15min 12s, total: 51min 37s\n",
      "Wall time: 8min 41s\n"
     ]
    }
   ],
   "source": [
    "%%time\n",
    "tritan.fit(m1)"
   ]
  },
  {
   "cell_type": "code",
   "execution_count": 74,
   "metadata": {},
   "outputs": [
    {
     "name": "stdout",
     "output_type": "stream",
     "text": [
      "26.06798506062478\n"
     ]
    }
   ],
   "source": [
    "tracemalloc.start()\n",
    "tritan.fit(m1)\n",
    "snapshot = tracemalloc.take_snapshot()\n",
    "peak_memory = tracemalloc.get_traced_memory()[1] \n",
    "print(peak_memory/1024/1024/1024)\n",
    "tracemalloc.stop()"
   ]
  },
  {
   "cell_type": "markdown",
   "metadata": {},
   "source": [
    "## 30k"
   ]
  },
  {
   "cell_type": "code",
   "execution_count": 85,
   "metadata": {
    "collapsed": true
   },
   "outputs": [
    {
     "name": "stdout",
     "output_type": "stream",
     "text": [
      "\n",
      "        #########################################################\n",
      "        ###           __  __  ____  ______                    ### \n",
      "        ###          |  \\/  |/ __ \\|  ____/\\    _             ### \n",
      "        ###          | \\  / | |  | | |__ /  \\ _| |_           ### \n",
      "        ###          | |\\/| | |  | |  __/ /\\ \\_   _|          ###\n",
      "        ###          | |  | | |__| | | / ____ \\|_|            ###\n",
      "        ###          |_|  |_|\\____/|_|/_/    \\_\\              ###\n",
      "        ###                                                   ### \n",
      "        ######################################################### \n",
      "       \n",
      " \n",
      "        \n",
      "Loaded view='rna' group='group1' with N=30000 samples and D=11639 features...\n",
      "Loaded view='atac' group='group1' with N=30000 samples and D=107711 features...\n",
      "\n",
      "\n",
      "Model options:\n",
      "- Automatic Relevance Determination prior on the factors: True\n",
      "- Automatic Relevance Determination prior on the weights: True\n",
      "- Spike-and-slab prior on the factors: False\n",
      "- Spike-and-slab prior on the weights: True\n",
      "Likelihoods:\n",
      "- View 0 (rna): gaussian\n",
      "- View 1 (atac): gaussian\n",
      "\n",
      "\n",
      "\n",
      "\n",
      "######################################\n",
      "## Training the model with seed 1 ##\n",
      "######################################\n",
      "\n",
      "\n",
      "\n",
      "Converged!\n",
      "\n",
      "\n",
      "\n",
      "#######################\n",
      "## Training finished ##\n",
      "#######################\n",
      "\n",
      "\n",
      "Saving model in /tmp/mofa_20230508-192038.hdf5...\n",
      "Saved MOFA embeddings in .obsm['X_mofa'] slot and their loadings in .varm['LFs'].\n",
      "CPU times: user 4h 17min 40s, sys: 46min 16s, total: 5h 3min 57s\n",
      "Wall time: 2h 8min 11s\n"
     ]
    }
   ],
   "source": [
    "%%time\n",
    "mu.tl.mofa(m1)"
   ]
  },
  {
   "cell_type": "code",
   "execution_count": 117,
   "metadata": {
    "collapsed": true
   },
   "outputs": [
    {
     "name": "stdout",
     "output_type": "stream",
     "text": [
      "\n",
      "        #########################################################\n",
      "        ###           __  __  ____  ______                    ### \n",
      "        ###          |  \\/  |/ __ \\|  ____/\\    _             ### \n",
      "        ###          | \\  / | |  | | |__ /  \\ _| |_           ### \n",
      "        ###          | |\\/| | |  | |  __/ /\\ \\_   _|          ###\n",
      "        ###          | |  | | |__| | | / ____ \\|_|            ###\n",
      "        ###          |_|  |_|\\____/|_|/_/    \\_\\              ###\n",
      "        ###                                                   ### \n",
      "        ######################################################### \n",
      "       \n",
      " \n",
      "        \n",
      "Loaded view='rna' group='group1' with N=30000 samples and D=11639 features...\n",
      "Loaded view='atac' group='group1' with N=30000 samples and D=107711 features...\n",
      "\n",
      "\n",
      "Model options:\n",
      "- Automatic Relevance Determination prior on the factors: True\n",
      "- Automatic Relevance Determination prior on the weights: True\n",
      "- Spike-and-slab prior on the factors: False\n",
      "- Spike-and-slab prior on the weights: True\n",
      "Likelihoods:\n",
      "- View 0 (rna): gaussian\n",
      "- View 1 (atac): gaussian\n",
      "\n",
      "\n",
      "\n",
      "\n",
      "######################################\n",
      "## Training the model with seed 1 ##\n",
      "######################################\n",
      "\n",
      "\n",
      "\n",
      "Converged!\n",
      "\n",
      "\n",
      "\n",
      "#######################\n",
      "## Training finished ##\n",
      "#######################\n",
      "\n",
      "\n",
      "Saving model in /tmp/mofa_20230511-215053.hdf5...\n",
      "Saved MOFA embeddings in .obsm['X_mofa'] slot and their loadings in .varm['LFs'].\n",
      "151.6169436024502\n"
     ]
    }
   ],
   "source": [
    "tracemalloc.start()\n",
    "mu.tl.mofa(m1)\n",
    "snapshot = tracemalloc.take_snapshot()\n",
    "peak_memory = tracemalloc.get_traced_memory()[1] \n",
    "print(peak_memory/1024/1024/1024)\n",
    "tracemalloc.stop()"
   ]
  },
  {
   "cell_type": "code",
   "execution_count": 49,
   "metadata": {},
   "outputs": [
    {
     "name": "stdout",
     "output_type": "stream",
     "text": [
      "CPU times: user 54min 1s, sys: 22min 25s, total: 1h 16min 26s\n",
      "Wall time: 12min 55s\n"
     ]
    }
   ],
   "source": [
    "%%time\n",
    "tritan.fit(m1)"
   ]
  },
  {
   "cell_type": "code",
   "execution_count": 100,
   "metadata": {},
   "outputs": [
    {
     "name": "stdout",
     "output_type": "stream",
     "text": [
      "39.07294953428209\n"
     ]
    }
   ],
   "source": [
    "tracemalloc.start()\n",
    "tritan.fit(m1)\n",
    "snapshot = tracemalloc.take_snapshot()\n",
    "peak_memory = tracemalloc.get_traced_memory()[1] \n",
    "print(peak_memory/1024/1024/1024)\n",
    "tracemalloc.stop()"
   ]
  },
  {
   "cell_type": "markdown",
   "metadata": {},
   "source": [
    "## 45k"
   ]
  },
  {
   "cell_type": "code",
   "execution_count": 12,
   "metadata": {
    "collapsed": true
   },
   "outputs": [
    {
     "name": "stdout",
     "output_type": "stream",
     "text": [
      "\n",
      "        #########################################################\n",
      "        ###           __  __  ____  ______                    ### \n",
      "        ###          |  \\/  |/ __ \\|  ____/\\    _             ### \n",
      "        ###          | \\  / | |  | | |__ /  \\ _| |_           ### \n",
      "        ###          | |\\/| | |  | |  __/ /\\ \\_   _|          ###\n",
      "        ###          | |  | | |__| | | / ____ \\|_|            ###\n",
      "        ###          |_|  |_|\\____/|_|/_/    \\_\\              ###\n",
      "        ###                                                   ### \n",
      "        ######################################################### \n",
      "       \n",
      " \n",
      "        \n",
      "Loaded view='rna' group='group1' with N=45000 samples and D=11639 features...\n",
      "Loaded view='atac' group='group1' with N=45000 samples and D=107711 features...\n",
      "\n",
      "\n",
      "Model options:\n",
      "- Automatic Relevance Determination prior on the factors: True\n",
      "- Automatic Relevance Determination prior on the weights: True\n",
      "- Spike-and-slab prior on the factors: False\n",
      "- Spike-and-slab prior on the weights: True\n",
      "Likelihoods:\n",
      "- View 0 (rna): gaussian\n",
      "- View 1 (atac): gaussian\n",
      "\n",
      "\n",
      "\n",
      "\n",
      "######################################\n",
      "## Training the model with seed 1 ##\n",
      "######################################\n",
      "\n",
      "\n",
      "\n",
      "Converged!\n",
      "\n",
      "\n",
      "\n",
      "#######################\n",
      "## Training finished ##\n",
      "#######################\n",
      "\n",
      "\n",
      "Saving model in /tmp/mofa_20230509-182750.hdf5...\n",
      "Saved MOFA embeddings in .obsm['X_mofa'] slot and their loadings in .varm['LFs'].\n",
      "CPU times: user 8h 8s, sys: 3h 49min 24s, total: 11h 49min 33s\n",
      "Wall time: 5h 10s\n"
     ]
    }
   ],
   "source": [
    "%%time\n",
    "mu.tl.mofa(m1)"
   ]
  },
  {
   "cell_type": "code",
   "execution_count": 118,
   "metadata": {},
   "outputs": [],
   "source": [
    "m1 = mdata[index_45k,:]"
   ]
  },
  {
   "cell_type": "code",
   "execution_count": 119,
   "metadata": {
    "collapsed": true
   },
   "outputs": [
    {
     "name": "stdout",
     "output_type": "stream",
     "text": [
      "\n",
      "        #########################################################\n",
      "        ###           __  __  ____  ______                    ### \n",
      "        ###          |  \\/  |/ __ \\|  ____/\\    _             ### \n",
      "        ###          | \\  / | |  | | |__ /  \\ _| |_           ### \n",
      "        ###          | |\\/| | |  | |  __/ /\\ \\_   _|          ###\n",
      "        ###          | |  | | |__| | | / ____ \\|_|            ###\n",
      "        ###          |_|  |_|\\____/|_|/_/    \\_\\              ###\n",
      "        ###                                                   ### \n",
      "        ######################################################### \n",
      "       \n",
      " \n",
      "        \n",
      "Loaded view='rna' group='group1' with N=45000 samples and D=11639 features...\n",
      "Loaded view='atac' group='group1' with N=45000 samples and D=107711 features...\n",
      "\n",
      "\n",
      "Model options:\n",
      "- Automatic Relevance Determination prior on the factors: True\n",
      "- Automatic Relevance Determination prior on the weights: True\n",
      "- Spike-and-slab prior on the factors: False\n",
      "- Spike-and-slab prior on the weights: True\n",
      "Likelihoods:\n",
      "- View 0 (rna): gaussian\n",
      "- View 1 (atac): gaussian\n",
      "\n",
      "\n",
      "\n",
      "\n",
      "######################################\n",
      "## Training the model with seed 1 ##\n",
      "######################################\n",
      "\n",
      "\n",
      "\n",
      "Converged!\n",
      "\n",
      "\n",
      "\n",
      "#######################\n",
      "## Training finished ##\n",
      "#######################\n",
      "\n",
      "\n",
      "Saving model in /tmp/mofa_20230512-011359.hdf5...\n",
      "Saved MOFA embeddings in .obsm['X_mofa'] slot and their loadings in .varm['LFs'].\n",
      "183.37054700497538\n"
     ]
    }
   ],
   "source": [
    "tracemalloc.start()\n",
    "mu.tl.mofa(m1)\n",
    "snapshot = tracemalloc.take_snapshot()\n",
    "peak_memory = tracemalloc.get_traced_memory()[1] \n",
    "print(peak_memory/1024/1024/1024)\n",
    "tracemalloc.stop()"
   ]
  },
  {
   "cell_type": "code",
   "execution_count": 53,
   "metadata": {},
   "outputs": [
    {
     "name": "stdout",
     "output_type": "stream",
     "text": [
      "CPU times: user 1h 22min 12s, sys: 36min 38s, total: 1h 58min 51s\n",
      "Wall time: 19min 34s\n"
     ]
    }
   ],
   "source": [
    "%%time\n",
    "tritan.fit(m1)"
   ]
  },
  {
   "cell_type": "code",
   "execution_count": 103,
   "metadata": {},
   "outputs": [
    {
     "name": "stdout",
     "output_type": "stream",
     "text": [
      "58.472081914544106\n"
     ]
    }
   ],
   "source": [
    "tracemalloc.start()\n",
    "tritan.fit(m1)\n",
    "snapshot = tracemalloc.take_snapshot()\n",
    "peak_memory = tracemalloc.get_traced_memory()[1]\n",
    "print(peak_memory/1024/1024/1024)\n",
    "tracemalloc.stop()"
   ]
  },
  {
   "cell_type": "markdown",
   "metadata": {},
   "source": [
    "## 60k"
   ]
  },
  {
   "cell_type": "code",
   "execution_count": 22,
   "metadata": {
    "collapsed": true
   },
   "outputs": [
    {
     "name": "stdout",
     "output_type": "stream",
     "text": [
      "\n",
      "        #########################################################\n",
      "        ###           __  __  ____  ______                    ### \n",
      "        ###          |  \\/  |/ __ \\|  ____/\\    _             ### \n",
      "        ###          | \\  / | |  | | |__ /  \\ _| |_           ### \n",
      "        ###          | |\\/| | |  | |  __/ /\\ \\_   _|          ###\n",
      "        ###          | |  | | |__| | | / ____ \\|_|            ###\n",
      "        ###          |_|  |_|\\____/|_|/_/    \\_\\              ###\n",
      "        ###                                                   ### \n",
      "        ######################################################### \n",
      "       \n",
      " \n",
      "        \n",
      "Loaded view='rna' group='group1' with N=60000 samples and D=11639 features...\n",
      "Loaded view='atac' group='group1' with N=60000 samples and D=107711 features...\n",
      "\n",
      "\n",
      "Model options:\n",
      "- Automatic Relevance Determination prior on the factors: True\n",
      "- Automatic Relevance Determination prior on the weights: True\n",
      "- Spike-and-slab prior on the factors: False\n",
      "- Spike-and-slab prior on the weights: True\n",
      "Likelihoods:\n",
      "- View 0 (rna): gaussian\n",
      "- View 1 (atac): gaussian\n",
      "\n",
      "\n",
      "\n",
      "\n",
      "######################################\n",
      "## Training the model with seed 1 ##\n",
      "######################################\n",
      "\n",
      "\n",
      "\n",
      "Converged!\n",
      "\n",
      "\n",
      "\n",
      "#######################\n",
      "## Training finished ##\n",
      "#######################\n",
      "\n",
      "\n",
      "Saving model in /tmp/mofa_20230509-235817.hdf5...\n",
      "Saved MOFA embeddings in .obsm['X_mofa'] slot and their loadings in .varm['LFs'].\n",
      "CPU times: user 10h 54min 50s, sys: 4h 31min 23s, total: 15h 26min 14s\n",
      "Wall time: 7h 15min 32s\n"
     ]
    }
   ],
   "source": [
    "%%time\n",
    "mu.tl.mofa(m1)"
   ]
  },
  {
   "cell_type": "code",
   "execution_count": 120,
   "metadata": {},
   "outputs": [],
   "source": [
    "m1 = mdata[index_60k,:]"
   ]
  },
  {
   "cell_type": "code",
   "execution_count": 121,
   "metadata": {
    "collapsed": true
   },
   "outputs": [
    {
     "name": "stdout",
     "output_type": "stream",
     "text": [
      "\n",
      "        #########################################################\n",
      "        ###           __  __  ____  ______                    ### \n",
      "        ###          |  \\/  |/ __ \\|  ____/\\    _             ### \n",
      "        ###          | \\  / | |  | | |__ /  \\ _| |_           ### \n",
      "        ###          | |\\/| | |  | |  __/ /\\ \\_   _|          ###\n",
      "        ###          | |  | | |__| | | / ____ \\|_|            ###\n",
      "        ###          |_|  |_|\\____/|_|/_/    \\_\\              ###\n",
      "        ###                                                   ### \n",
      "        ######################################################### \n",
      "       \n",
      " \n",
      "        \n",
      "Loaded view='rna' group='group1' with N=60000 samples and D=11639 features...\n",
      "Loaded view='atac' group='group1' with N=60000 samples and D=107711 features...\n",
      "\n",
      "\n",
      "Model options:\n",
      "- Automatic Relevance Determination prior on the factors: True\n",
      "- Automatic Relevance Determination prior on the weights: True\n",
      "- Spike-and-slab prior on the factors: False\n",
      "- Spike-and-slab prior on the weights: True\n",
      "Likelihoods:\n",
      "- View 0 (rna): gaussian\n",
      "- View 1 (atac): gaussian\n",
      "\n",
      "\n",
      "\n",
      "\n",
      "######################################\n",
      "## Training the model with seed 1 ##\n",
      "######################################\n",
      "\n",
      "\n",
      "\n",
      "Converged!\n",
      "\n",
      "\n",
      "\n",
      "#######################\n",
      "## Training finished ##\n",
      "#######################\n",
      "\n",
      "\n",
      "Saving model in /tmp/mofa_20230512-061441.hdf5...\n",
      "Saved MOFA embeddings in .obsm['X_mofa'] slot and their loadings in .varm['LFs'].\n",
      "302.98556360509247\n"
     ]
    }
   ],
   "source": [
    "tracemalloc.start()\n",
    "mu.tl.mofa(m1)\n",
    "snapshot = tracemalloc.take_snapshot()\n",
    "peak_memory = tracemalloc.get_traced_memory()[1] \n",
    "print(peak_memory/1024/1024/1024)\n",
    "tracemalloc.stop()"
   ]
  },
  {
   "cell_type": "code",
   "execution_count": 55,
   "metadata": {},
   "outputs": [
    {
     "name": "stdout",
     "output_type": "stream",
     "text": [
      "CPU times: user 1h 45min 40s, sys: 39min 31s, total: 2h 25min 11s\n",
      "Wall time: 24min 59s\n"
     ]
    }
   ],
   "source": [
    "%%time\n",
    "tritan.fit(m1)"
   ]
  },
  {
   "cell_type": "code",
   "execution_count": 107,
   "metadata": {},
   "outputs": [
    {
     "name": "stdout",
     "output_type": "stream",
     "text": [
      "77.89204084221274\n"
     ]
    }
   ],
   "source": [
    "tracemalloc.start()\n",
    "tritan.fit(m1)\n",
    "snapshot = tracemalloc.take_snapshot()\n",
    "peak_memory = tracemalloc.get_traced_memory()[1]\n",
    "print(peak_memory/1024/1024/1024)\n",
    "tracemalloc.stop()"
   ]
  },
  {
   "cell_type": "code",
   "execution_count": 10,
   "metadata": {},
   "outputs": [],
   "source": [
    "plt.rcParams[\"figure.figsize\"] = (4,4)"
   ]
  },
  {
   "cell_type": "code",
   "execution_count": 18,
   "metadata": {},
   "outputs": [
    {
     "data": {
      "image/png": "[encoded data removed]",
      "text/plain": [
       "<Figure size 400x400 with 1 Axes>"
      ]
     },
     "metadata": {},
     "output_type": "display_data"
    }
   ],
   "source": [
    "import matplotlib.pyplot as plt\n",
    "\n",
    "x = ['3K','10K','20K','30K','45K','60K']\n",
    "y1 = [2.8830933585756897,\n",
    " 3.398287305357401,\n",
    " 3.683587317572767,\n",
    " 3.8860392755664424,\n",
    " 4.255537826224604,\n",
    " 4.4204838464200416]\n",
    "y3 = [2.0863598306747484,\n",
    " 2.482873583608754,\n",
    " 2.7168377232995247,\n",
    " 2.88930170250631,\n",
    " 3.0696680969115957,\n",
    " 3.1758016328482794]\n",
    "y2 = [2.3521825181113627,\n",
    " 2.74350976472843,\n",
    " 2.8796692056320534,\n",
    " 3.0519239160461065,\n",
    " 3.2127201544178425,\n",
    " 3.3170181010481117]\n",
    "y4 = [2.2764618041732443,\n",
    " 2.6483600109809315,\n",
    " 2.7895807121644256,\n",
    " 2.9628426812012423,\n",
    " 3.1031192535457137,\n",
    " 3.1687920203141817]\n",
    "plt.title('Time',fontsize=20)  # 折线图标题\n",
    "plt.xlabel('Number of cells',fontsize=15)  # x轴标题\n",
    "plt.ylabel('Time-log10(seconds)',fontsize=15)  # y轴标题\n",
    "plt.plot(x, y1, marker='o', markersize=5)  # 绘制折线图，添加数据点，设置点的大小\n",
    "plt.plot(x, y2, marker='s', markersize=5)\n",
    "plt.plot(x, y3, marker= '^', markersize=5)\n",
    "plt.plot(x, y4, marker='p', markersize=5)\n",
    "\n",
    "\n",
    "\n",
    "plt.legend(['MOFA+', 'WNN', 'TriTan', 'MOJITOO'])  # 设置折线名称\n",
    "\n",
    "plt.savefig(\"./GSE194122/TIME.png\", dpi=750, bbox_inches = 'tight')"
   ]
  },
  {
   "cell_type": "code",
   "execution_count": 12,
   "metadata": {},
   "outputs": [],
   "source": [
    "from matplotlib.pyplot import MultipleLocator"
   ]
  },
  {
   "cell_type": "code",
   "execution_count": 2,
   "metadata": {},
   "outputs": [],
   "source": [
    "import matplotlib as mpl\n",
    "mpl.rcParams['font.serif'] = ['Times New Roman']"
   ]
  },
  {
   "cell_type": "code",
   "execution_count": 20,
   "metadata": {
    "scrolled": false
   },
   "outputs": [
    {
     "data": {
      "image/png": "[encoded data removed]",
      "text/plain": [
       "<Figure size 400x400 with 1 Axes>"
      ]
     },
     "metadata": {},
     "output_type": "display_data"
    }
   ],
   "source": [
    "x = ['3K','10K','20K','30K','45K','60K']\n",
    "y1 = [15,50,101,151,183,302]\n",
    "y3 = [4,13,26,39,58,77]\n",
    "y2 = [4.3017578125,\n",
    " 7.55078125,\n",
    " 9.9365234375,\n",
    " 12.1259765625,\n",
    " 22.322265625,\n",
    " 27.2451171875]\n",
    "y4 = [4.3017578125,\n",
    " 7.55078125,\n",
    " 8.9,\n",
    " 10,\n",
    " 22.322265625,\n",
    " 27]\n",
    "plt.title('Memory',fontsize=20)  # 折线图标题\n",
    "plt.xlabel('Number of cells',fontsize=15)  # x轴标题\n",
    "plt.ylabel('Memory-GB',fontsize=15)  # y轴标题\n",
    "\n",
    "\n",
    "plt.plot(x, y1, marker='o', markersize=5)  # 绘制折线图，添加数据点，设置点的大小\n",
    "plt.plot(x, y2, marker='s', markersize=5)\n",
    "plt.plot(x, y3, marker= '^', markersize=5)\n",
    "plt.plot(x, y4, marker='p', markersize=5)\n",
    "\n",
    "\n",
    "plt.legend(['MOFA+', 'WNN','TriTan',  'MOJITOO'])  # 设置折线名称\n",
    "plt.savefig('./GSE194122/MEMORY.png', dpi=750, bbox_inches = 'tight')\n",
    "\n"
   ]
  },
  {
   "cell_type": "code",
   "execution_count": null,
   "metadata": {},
   "outputs": [],
   "source": []
  }
 ],
 "metadata": {
  "kernelspec": {
   "display_name": "maxxxxxxxin",
   "language": "python",
   "name": "maxxxxxxxin"
  },
  "language_info": {
   "codemirror_mode": {
    "name": "ipython",
    "version": 3
   },
   "file_extension": ".py",
   "mimetype": "text/x-python",
   "name": "python",
   "nbconvert_exporter": "python",
   "pygments_lexer": "ipython3",
   "version": "3.9.7"
  }
 },
 "nbformat": 4,
 "nbformat_minor": 2
}
